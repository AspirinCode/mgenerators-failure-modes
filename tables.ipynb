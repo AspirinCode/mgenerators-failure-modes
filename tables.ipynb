{
 "cells": [
  {
   "cell_type": "code",
   "execution_count": null,
   "metadata": {},
   "outputs": [],
   "source": [
    "%load_ext autoreload\n",
    "%autoreload 2\n",
    "\n",
    "import json\n",
    "import os\n",
    "import pickle\n",
    "from collections import defaultdict\n",
    "from glob import glob\n",
    "from pathlib import Path\n",
    "\n",
    "import matplotlib.pyplot as plt\n",
    "import numpy as np\n",
    "import pandas as pd\n",
    "from matplotlib import rcParams\n",
    "from matplotlib.lines import Line2D\n",
    "\n",
    "from plot_utils import (median_score_compound, median_score_single, npflatten,\n",
    "                        plot_wrapper, ratio_active_compound,\n",
    "                        ratio_active_single)\n",
    "\n",
    "# rcParams.update(matplotlib.rcParamsDefault)\n",
    "params = {\n",
    "    #    'axes.labelsize': 8,\n",
    "    'font.size': 14,\n",
    "\n",
    "    #    'legend.fontsize': 14,\n",
    "    #    'xtick.labelsize': 10,\n",
    "    #    'ytick.labelsize': 10,\n",
    "    'text.usetex': False,\n",
    "    #    'figure.figsize': [4.5, 4.5]\n",
    "}\n",
    "rcParams.update(params)\n"
   ]
  },
  {
   "cell_type": "code",
   "execution_count": null,
   "metadata": {},
   "outputs": [],
   "source": [
    "# folder structure is as follows:\n",
    "# /results/{algorithm}/{chid}/{date}/\n",
    "# algorithm: specific optimization algorithm\n",
    "# chid: refers to a CHEMBL assay id. \n",
    "# date: folders for different runs. the date/time refers to when the run finished\n",
    "\n",
    "from plot_utils import load_chid\n",
    "results_dir = Path('results')\n",
    "  \n",
    "order = ('Split1', 'Split2', 'Split1_alt')\n",
    "col_dict = dict(zip(order, ['blue', 'red', 'green']))\n",
    "legend_dict = dict(zip(order, ['Optimizer', 'Control', 'Control 2']))"
   ]
  },
  {
   "cell_type": "code",
   "execution_count": null,
   "metadata": {},
   "outputs": [],
   "source": [
    "columns = ['AssayID', 'TargetName', 'TargetID']\n",
    "rows = [('CHEMBL3888429', 'JAK2', 'CHEMBL2971'),\n",
    "     ('CHEMBL1909203', 'EGFR', 'CHEMBL203'),\n",
    "     ('CHEMBL1909140', 'DRD2', 'CHEMBL217')]\n",
    "\n",
    "assay_info = pd.DataFrame(rows, columns=columns)\n",
    "chid_name = dict(zip(assay_info['AssayID'], assay_info['TargetName']))"
   ]
  },
  {
   "cell_type": "code",
   "execution_count": null,
   "metadata": {},
   "outputs": [],
   "source": [
    "assay_stats = []\n",
    "\n",
    "for chid in assay_info.AssayID:\n",
    "    row = {}\n",
    "    assay_data = pd.read_csv(f'./assays/processed/{chid}.csv')\n",
    "    label = assay_data['label']\n",
    "    \n",
    "    row['active'] = label.sum()\n",
    "    row['inactive'] = len(label) - row['active']\n",
    "    row['size'] = len(label)\n",
    "    assay_stats.append(row)\n",
    "\n",
    "assay_info = pd.concat([assay_info, pd.DataFrame(assay_stats)], 1)"
   ]
  },
  {
   "cell_type": "code",
   "execution_count": null,
   "metadata": {},
   "outputs": [
    {
     "name": "stdout",
     "output_type": "stream",
     "text": [
      "JAK2: 0.78 ± 0.03\n",
      "EGFR: 0.76 ± 0.05\n",
      "DRD2: 0.86 ± 0.03\n"
     ]
    }
   ],
   "source": [
    "algorithm = 'lstm_hc'\n",
    "aucs = defaultdict(list)\n",
    "chids = os.listdir(results_dir/algorithm)\n",
    "for optimizer in ['graph_ga', 'lstm_hc']:    \n",
    "    for i, chid in enumerate(chids):\n",
    "        _, _, auc = load_chid(results_dir/optimizer/chid, order)\n",
    "        aucs[chid] += [v for x in auc.values() for v in x]\n",
    "\n",
    "auc_ms = {}\n",
    "for chid, auc in aucs.items():\n",
    "    a = np.array(auc)\n",
    "    auc_ms[chid] = (a.mean(), a.std())\n",
    "\n",
    "for chid, (m,s) in auc_ms.items():\n",
    "    print(f'{chid_name[chid]}: {m:.2f} ± {s:.2f}')"
   ]
  },
  {
   "cell_type": "markdown",
   "metadata": {},
   "source": [
    "# Calculate AUCs with stds"
   ]
  },
  {
   "cell_type": "code",
   "execution_count": null,
   "metadata": {},
   "outputs": [
    {
     "data": {
      "text/html": [
       "<div>\n",
       "<style scoped>\n",
       "    .dataframe tbody tr th:only-of-type {\n",
       "        vertical-align: middle;\n",
       "    }\n",
       "\n",
       "    .dataframe tbody tr th {\n",
       "        vertical-align: top;\n",
       "    }\n",
       "\n",
       "    .dataframe thead th {\n",
       "        text-align: right;\n",
       "    }\n",
       "</style>\n",
       "<table border=\"1\" class=\"dataframe\">\n",
       "  <thead>\n",
       "    <tr style=\"text-align: right;\">\n",
       "      <th></th>\n",
       "      <th>AssayID</th>\n",
       "      <th>TargetName</th>\n",
       "      <th>TargetID</th>\n",
       "      <th>active</th>\n",
       "      <th>inactive</th>\n",
       "      <th>size</th>\n",
       "      <th>AUC_mean</th>\n",
       "      <th>AUC_std</th>\n",
       "    </tr>\n",
       "  </thead>\n",
       "  <tbody>\n",
       "    <tr>\n",
       "      <th>0</th>\n",
       "      <td>CHEMBL3888429</td>\n",
       "      <td>JAK2</td>\n",
       "      <td>CHEMBL2971</td>\n",
       "      <td>140</td>\n",
       "      <td>527</td>\n",
       "      <td>667</td>\n",
       "      <td>0.781237</td>\n",
       "      <td>0.025167</td>\n",
       "    </tr>\n",
       "    <tr>\n",
       "      <th>1</th>\n",
       "      <td>CHEMBL1909203</td>\n",
       "      <td>EGFR</td>\n",
       "      <td>CHEMBL203</td>\n",
       "      <td>40</td>\n",
       "      <td>802</td>\n",
       "      <td>842</td>\n",
       "      <td>0.759297</td>\n",
       "      <td>0.052238</td>\n",
       "    </tr>\n",
       "    <tr>\n",
       "      <th>2</th>\n",
       "      <td>CHEMBL1909140</td>\n",
       "      <td>DRD2</td>\n",
       "      <td>CHEMBL217</td>\n",
       "      <td>59</td>\n",
       "      <td>783</td>\n",
       "      <td>842</td>\n",
       "      <td>0.860297</td>\n",
       "      <td>0.025578</td>\n",
       "    </tr>\n",
       "  </tbody>\n",
       "</table>\n",
       "</div>"
      ],
      "text/plain": [
       "         AssayID TargetName    TargetID  active  inactive  size  AUC_mean  \\\n",
       "0  CHEMBL3888429       JAK2  CHEMBL2971     140       527   667  0.781237   \n",
       "1  CHEMBL1909203       EGFR   CHEMBL203      40       802   842  0.759297   \n",
       "2  CHEMBL1909140       DRD2   CHEMBL217      59       783   842  0.860297   \n",
       "\n",
       "    AUC_std  \n",
       "0  0.025167  \n",
       "1  0.052238  \n",
       "2  0.025578  "
      ]
     },
     "execution_count": null,
     "metadata": {},
     "output_type": "execute_result"
    }
   ],
   "source": [
    "auc_df = pd.DataFrame(auc_ms).transpose()\n",
    "auc_df.columns = ['AUC_mean', 'AUC_std']\n",
    "auc_df['AssayID'] = auc_df.index\n",
    "assay_info = assay_info.merge(auc_df, on='AssayID')\n",
    "assay_info"
   ]
  },
  {
   "cell_type": "code",
   "execution_count": null,
   "metadata": {},
   "outputs": [
    {
     "data": {
      "text/html": [
       "<div>\n",
       "<style scoped>\n",
       "    .dataframe tbody tr th:only-of-type {\n",
       "        vertical-align: middle;\n",
       "    }\n",
       "\n",
       "    .dataframe tbody tr th {\n",
       "        vertical-align: top;\n",
       "    }\n",
       "\n",
       "    .dataframe thead th {\n",
       "        text-align: right;\n",
       "    }\n",
       "</style>\n",
       "<table border=\"1\" class=\"dataframe\">\n",
       "  <thead>\n",
       "    <tr style=\"text-align: right;\">\n",
       "      <th></th>\n",
       "      <th>AssayID</th>\n",
       "      <th>TargetName</th>\n",
       "      <th>TargetID</th>\n",
       "      <th>active</th>\n",
       "      <th>inactive</th>\n",
       "      <th>size</th>\n",
       "      <th>AUC_mean</th>\n",
       "      <th>AUC_std</th>\n",
       "      <th>AUC</th>\n",
       "    </tr>\n",
       "  </thead>\n",
       "  <tbody>\n",
       "    <tr>\n",
       "      <th>0</th>\n",
       "      <td>CHEMBL3888429</td>\n",
       "      <td>JAK2</td>\n",
       "      <td>CHEMBL2971</td>\n",
       "      <td>140</td>\n",
       "      <td>527</td>\n",
       "      <td>667</td>\n",
       "      <td>0.781237</td>\n",
       "      <td>0.025167</td>\n",
       "      <td>$0.78\\pm0.03$</td>\n",
       "    </tr>\n",
       "    <tr>\n",
       "      <th>1</th>\n",
       "      <td>CHEMBL1909203</td>\n",
       "      <td>EGFR</td>\n",
       "      <td>CHEMBL203</td>\n",
       "      <td>40</td>\n",
       "      <td>802</td>\n",
       "      <td>842</td>\n",
       "      <td>0.759297</td>\n",
       "      <td>0.052238</td>\n",
       "      <td>$0.76\\pm0.05$</td>\n",
       "    </tr>\n",
       "    <tr>\n",
       "      <th>2</th>\n",
       "      <td>CHEMBL1909140</td>\n",
       "      <td>DRD2</td>\n",
       "      <td>CHEMBL217</td>\n",
       "      <td>59</td>\n",
       "      <td>783</td>\n",
       "      <td>842</td>\n",
       "      <td>0.860297</td>\n",
       "      <td>0.025578</td>\n",
       "      <td>$0.86\\pm0.03$</td>\n",
       "    </tr>\n",
       "  </tbody>\n",
       "</table>\n",
       "</div>"
      ],
      "text/plain": [
       "         AssayID TargetName    TargetID  active  inactive  size  AUC_mean  \\\n",
       "0  CHEMBL3888429       JAK2  CHEMBL2971     140       527   667  0.781237   \n",
       "1  CHEMBL1909203       EGFR   CHEMBL203      40       802   842  0.759297   \n",
       "2  CHEMBL1909140       DRD2   CHEMBL217      59       783   842  0.860297   \n",
       "\n",
       "    AUC_std            AUC  \n",
       "0  0.025167  $0.78\\pm0.03$  \n",
       "1  0.052238  $0.76\\pm0.05$  \n",
       "2  0.025578  $0.86\\pm0.03$  "
      ]
     },
     "execution_count": null,
     "metadata": {},
     "output_type": "execute_result"
    }
   ],
   "source": [
    "pm = [f\"${auc:.2f}\\pm{std:.2f}$\" for auc, std in zip(assay_info['AUC_mean'], assay_info['AUC_std'])]\n",
    "assay_info['AUC'] = pm\n",
    "assay_info"
   ]
  },
  {
   "cell_type": "code",
   "execution_count": null,
   "metadata": {},
   "outputs": [
    {
     "name": "stdout",
     "output_type": "stream",
     "text": [
      "\\begin{tabular}{llrrl}\n",
      "\\toprule\n",
      "Target &      ChEMBL ID &  Active &  Inactive &            AUC \\\\\n",
      "\\midrule\n",
      "  JAK2 &  CHEMBL3888429 &     140 &       527 &  $0.78\\pm0.03$ \\\\\n",
      "  EGFR &  CHEMBL1909203 &      40 &       802 &  $0.76\\pm0.05$ \\\\\n",
      "  DRD2 &  CHEMBL1909140 &      59 &       783 &  $0.86\\pm0.03$ \\\\\n",
      "\\bottomrule\n",
      "\\end{tabular}\n",
      "\n"
     ]
    }
   ],
   "source": [
    "columns=['TargetName', 'AssayID', 'active', 'inactive', 'AUC']\n",
    "names = ['Target', 'ChEMBL ID', 'Active', 'Inactive', 'AUC']\n",
    "df_fil = assay_info[columns]\n",
    "df_fil.columns = names\n",
    "lt = df_fil.to_latex(float_format=\"%.2f\", escape=False, index=False)\n",
    "print(lt)"
   ]
  }
 ],
 "metadata": {
  "kernelspec": {
   "display_name": "guacamol",
   "language": "python",
   "name": "guacamol"
  }
 },
 "nbformat": 4,
 "nbformat_minor": 2
}
