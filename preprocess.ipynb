{
 "cells": [
  {
   "cell_type": "markdown",
   "metadata": {},
   "source": [
    "# Canonicalize CHEMBL molecules\n",
    "We're doing this once so we can save on compute later.\n",
    "Guacamol optimizers often canonicalize these sets."
   ]
  },
  {
   "cell_type": "code",
   "execution_count": null,
   "metadata": {},
   "outputs": [],
   "source": [
    "from guacamol.utils.chemistry import canonicalize\n",
    "import os\n",
    "from multiprocessing import Pool\n",
    "from glob import glob\n",
    "import pandas as pd\n",
    "import matplotlib.pyplot as plt\n",
    "import numpy as np"
   ]
  },
  {
   "cell_type": "code",
   "execution_count": null,
   "metadata": {},
   "outputs": [
    {
     "name": "stdout",
     "output_type": "stream",
     "text": [
      "1591378 1591378\n",
      "79568 79568\n",
      "1273104 1273104\n",
      "238706 238706\n"
     ]
    }
   ],
   "source": [
    "files = [f for f in glob('data/*') if not f.endswith('.can')]\n",
    "\n",
    "for file in files:\n",
    "    can_file = file+'.can'\n",
    "    if os.path.isfile(can_file):\n",
    "        continue\n",
    "        \n",
    "    with open(file) as f:\n",
    "        smiles = f.read().split()\n",
    "    with Pool(16) as pool:\n",
    "        can_smiles = pool.map(canonicalize, smiles)    \n",
    "    \n",
    "    print(len(smiles), len(can_smiles))\n",
    "    with open(can_file, 'w') as f:\n",
    "        f.write('\\n'.join(smiles))"
   ]
  },
  {
   "cell_type": "markdown",
   "metadata": {},
   "source": [
    "# Preprocessing of JAK2"
   ]
  },
  {
   "cell_type": "code",
   "execution_count": null,
   "metadata": {},
   "outputs": [
    {
     "name": "stdout",
     "output_type": "stream",
     "text": [
      "0.2098950524737631\n",
      "667\n"
     ]
    },
    {
     "data": {
      "text/html": [
       "<div>\n",
       "<style scoped>\n",
       "    .dataframe tbody tr th:only-of-type {\n",
       "        vertical-align: middle;\n",
       "    }\n",
       "\n",
       "    .dataframe tbody tr th {\n",
       "        vertical-align: top;\n",
       "    }\n",
       "\n",
       "    .dataframe thead th {\n",
       "        text-align: right;\n",
       "    }\n",
       "</style>\n",
       "<table border=\"1\" class=\"dataframe\">\n",
       "  <thead>\n",
       "    <tr style=\"text-align: right;\">\n",
       "      <th></th>\n",
       "      <th>smiles</th>\n",
       "      <th>value</th>\n",
       "      <th>label</th>\n",
       "    </tr>\n",
       "  </thead>\n",
       "  <tbody>\n",
       "    <tr>\n",
       "      <th>0</th>\n",
       "      <td>NC(=O)c1cn(nc1Nc2ccnc(F)c2)C3(CC#N)CCN(Cc4cccn...</td>\n",
       "      <td>6.84</td>\n",
       "      <td>0</td>\n",
       "    </tr>\n",
       "    <tr>\n",
       "      <th>1</th>\n",
       "      <td>CN(C1CCC(CC#N)(CC1)n2cc(C(=O)N)c(Nc3ccnc(F)c3)...</td>\n",
       "      <td>6.98</td>\n",
       "      <td>0</td>\n",
       "    </tr>\n",
       "    <tr>\n",
       "      <th>2</th>\n",
       "      <td>NC(=O)c1cn(nc1Nc2ccc(F)cc2)C3(CC#N)CCN(CC3)C(=...</td>\n",
       "      <td>7.48</td>\n",
       "      <td>0</td>\n",
       "    </tr>\n",
       "    <tr>\n",
       "      <th>3</th>\n",
       "      <td>NC(=O)c1cn(nc1Nc2ccnc(F)c2)C3(CC#N)CCN(CC3)C(=...</td>\n",
       "      <td>8.05</td>\n",
       "      <td>1</td>\n",
       "    </tr>\n",
       "    <tr>\n",
       "      <th>4</th>\n",
       "      <td>NC(=O)c1cn(nc1Nc2ccnc(F)c2)C3(CC#N)CCC(CC3)NCc...</td>\n",
       "      <td>8.70</td>\n",
       "      <td>1</td>\n",
       "    </tr>\n",
       "    <tr>\n",
       "      <th>...</th>\n",
       "      <td>...</td>\n",
       "      <td>...</td>\n",
       "      <td>...</td>\n",
       "    </tr>\n",
       "    <tr>\n",
       "      <th>662</th>\n",
       "      <td>Cc1c[nH]c(CN2CCC(CC#N)(CC2)n3cc(C(=O)N)c(Nc4cc...</td>\n",
       "      <td>5.93</td>\n",
       "      <td>0</td>\n",
       "    </tr>\n",
       "    <tr>\n",
       "      <th>663</th>\n",
       "      <td>NC(=O)c1cn(nc1Nc2ccnc(F)c2)C3(CC#N)CCN(Cc4cn5c...</td>\n",
       "      <td>NaN</td>\n",
       "      <td>0</td>\n",
       "    </tr>\n",
       "    <tr>\n",
       "      <th>664</th>\n",
       "      <td>CC(C)(C)OC(=O)N1CCC(CC#N)(CC1)n2cc(C(=O)N)c(Nc...</td>\n",
       "      <td>7.96</td>\n",
       "      <td>0</td>\n",
       "    </tr>\n",
       "    <tr>\n",
       "      <th>665</th>\n",
       "      <td>NC(=O)c1cn(nc1Nc2ccc(cc2)S(=O)(=O)C(F)F)C3(CC#...</td>\n",
       "      <td>9.00</td>\n",
       "      <td>1</td>\n",
       "    </tr>\n",
       "    <tr>\n",
       "      <th>666</th>\n",
       "      <td>NC(=O)c1cn(nc1Nc2ccc(cc2)S(=O)(=O)C(F)F)C3(CC#...</td>\n",
       "      <td>6.49</td>\n",
       "      <td>0</td>\n",
       "    </tr>\n",
       "  </tbody>\n",
       "</table>\n",
       "<p>667 rows × 3 columns</p>\n",
       "</div>"
      ],
      "text/plain": [
       "                                                smiles  value  label\n",
       "0    NC(=O)c1cn(nc1Nc2ccnc(F)c2)C3(CC#N)CCN(Cc4cccn...   6.84      0\n",
       "1    CN(C1CCC(CC#N)(CC1)n2cc(C(=O)N)c(Nc3ccnc(F)c3)...   6.98      0\n",
       "2    NC(=O)c1cn(nc1Nc2ccc(F)cc2)C3(CC#N)CCN(CC3)C(=...   7.48      0\n",
       "3    NC(=O)c1cn(nc1Nc2ccnc(F)c2)C3(CC#N)CCN(CC3)C(=...   8.05      1\n",
       "4    NC(=O)c1cn(nc1Nc2ccnc(F)c2)C3(CC#N)CCC(CC3)NCc...   8.70      1\n",
       "..                                                 ...    ...    ...\n",
       "662  Cc1c[nH]c(CN2CCC(CC#N)(CC2)n3cc(C(=O)N)c(Nc4cc...   5.93      0\n",
       "663  NC(=O)c1cn(nc1Nc2ccnc(F)c2)C3(CC#N)CCN(Cc4cn5c...    NaN      0\n",
       "664  CC(C)(C)OC(=O)N1CCC(CC#N)(CC1)n2cc(C(=O)N)c(Nc...   7.96      0\n",
       "665  NC(=O)c1cn(nc1Nc2ccc(cc2)S(=O)(=O)C(F)F)C3(CC#...   9.00      1\n",
       "666  NC(=O)c1cn(nc1Nc2ccc(cc2)S(=O)(=O)C(F)F)C3(CC#...   6.49      0\n",
       "\n",
       "[667 rows x 3 columns]"
      ]
     },
     "execution_count": null,
     "metadata": {},
     "output_type": "execute_result"
    }
   ],
   "source": [
    "def prepjak2(write=False):\n",
    "    chid = 'CHEMBL3888429'\n",
    "    df = pd.read_csv(f'./assays/raw/{chid}.csv', sep=';')\n",
    "    df = df[['Smiles', 'pChEMBL Value']]\n",
    "    df.columns = ['smiles', 'value']\n",
    "\n",
    "    label = np.array([1 if x>8 else 0 for x in df.value])\n",
    "    print(label.mean())\n",
    "    df['label'] = label\n",
    "    print(len(df))\n",
    "    tups = [(s,l) for s, l in zip(df.smiles, df.label)]\n",
    "    from collections import Counter\n",
    "    if write:\n",
    "        df.to_csv(f'./assays/processed/{chid}.csv', index=None)\n",
    "    return df\n",
    "prepjak2()"
   ]
  },
  {
   "cell_type": "markdown",
   "metadata": {},
   "source": [
    "# EGFR"
   ]
  },
  {
   "cell_type": "code",
   "execution_count": null,
   "metadata": {},
   "outputs": [
    {
     "name": "stdout",
     "output_type": "stream",
     "text": [
      "47\n",
      "40\n"
     ]
    },
    {
     "data": {
      "text/html": [
       "<div>\n",
       "<style scoped>\n",
       "    .dataframe tbody tr th:only-of-type {\n",
       "        vertical-align: middle;\n",
       "    }\n",
       "\n",
       "    .dataframe tbody tr th {\n",
       "        vertical-align: top;\n",
       "    }\n",
       "\n",
       "    .dataframe thead th {\n",
       "        text-align: right;\n",
       "    }\n",
       "</style>\n",
       "<table border=\"1\" class=\"dataframe\">\n",
       "  <thead>\n",
       "    <tr style=\"text-align: right;\">\n",
       "      <th></th>\n",
       "      <th>smiles</th>\n",
       "      <th>label</th>\n",
       "    </tr>\n",
       "  </thead>\n",
       "  <tbody>\n",
       "    <tr>\n",
       "      <th>0</th>\n",
       "      <td>CC(C)NCC(O)c1ccccc1Cl</td>\n",
       "      <td>0</td>\n",
       "    </tr>\n",
       "    <tr>\n",
       "      <th>1</th>\n",
       "      <td>CO[C@]1(NC(=O)CSCC#N)[C@H]2SCC(=C(N2C1=O)C(=O)...</td>\n",
       "      <td>0</td>\n",
       "    </tr>\n",
       "    <tr>\n",
       "      <th>2</th>\n",
       "      <td>CCN1C[C@]2(COC)[C@H](O)C[C@@H](OC)[C@@]34[C@@H...</td>\n",
       "      <td>0</td>\n",
       "    </tr>\n",
       "    <tr>\n",
       "      <th>3</th>\n",
       "      <td>[Cl-].COc1cc2CC[N+](C)(C)[C@@H]3Cc4ccc(O)c(Oc5...</td>\n",
       "      <td>0</td>\n",
       "    </tr>\n",
       "    <tr>\n",
       "      <th>4</th>\n",
       "      <td>CNCCc1ccccn1</td>\n",
       "      <td>0</td>\n",
       "    </tr>\n",
       "    <tr>\n",
       "      <th>...</th>\n",
       "      <td>...</td>\n",
       "      <td>...</td>\n",
       "    </tr>\n",
       "    <tr>\n",
       "      <th>866</th>\n",
       "      <td>CN(C)CCCN1c2ccccc2Sc3ccc(Cl)cc13</td>\n",
       "      <td>1</td>\n",
       "    </tr>\n",
       "    <tr>\n",
       "      <th>867</th>\n",
       "      <td>CCN(CC)CCNC(=O)c1cc(Cl)c(N)cc1OC</td>\n",
       "      <td>0</td>\n",
       "    </tr>\n",
       "    <tr>\n",
       "      <th>868</th>\n",
       "      <td>CC[C@H]1OC(=O)[C@H](C)[C@@H](O[C@H]2C[C@@](C)(...</td>\n",
       "      <td>0</td>\n",
       "    </tr>\n",
       "    <tr>\n",
       "      <th>869</th>\n",
       "      <td>CCN1C=C(C(=O)O)C(=O)c2cc(F)c(cc12)N3CCNCC3</td>\n",
       "      <td>0</td>\n",
       "    </tr>\n",
       "    <tr>\n",
       "      <th>870</th>\n",
       "      <td>Cn1cnc(c1Sc2ncnc3nc[nH]c23)[N+](=O)[O-]</td>\n",
       "      <td>0</td>\n",
       "    </tr>\n",
       "  </tbody>\n",
       "</table>\n",
       "<p>842 rows × 2 columns</p>\n",
       "</div>"
      ],
      "text/plain": [
       "                                                smiles  label\n",
       "0                                CC(C)NCC(O)c1ccccc1Cl      0\n",
       "1    CO[C@]1(NC(=O)CSCC#N)[C@H]2SCC(=C(N2C1=O)C(=O)...      0\n",
       "2    CCN1C[C@]2(COC)[C@H](O)C[C@@H](OC)[C@@]34[C@@H...      0\n",
       "3    [Cl-].COc1cc2CC[N+](C)(C)[C@@H]3Cc4ccc(O)c(Oc5...      0\n",
       "4                                         CNCCc1ccccn1      0\n",
       "..                                                 ...    ...\n",
       "866                   CN(C)CCCN1c2ccccc2Sc3ccc(Cl)cc13      1\n",
       "867                   CCN(CC)CCNC(=O)c1cc(Cl)c(N)cc1OC      0\n",
       "868  CC[C@H]1OC(=O)[C@H](C)[C@@H](O[C@H]2C[C@@](C)(...      0\n",
       "869         CCN1C=C(C(=O)O)C(=O)c2cc(F)c(cc12)N3CCNCC3      0\n",
       "870            Cn1cnc(c1Sc2ncnc3nc[nH]c23)[N+](=O)[O-]      0\n",
       "\n",
       "[842 rows x 2 columns]"
      ]
     },
     "execution_count": null,
     "metadata": {},
     "output_type": "execute_result"
    }
   ],
   "source": [
    "def prepegfr(write=False):\n",
    "    chid = 'CHEMBL1909203'\n",
    "    df = pd.read_csv(f'./assays/raw/{chid}.csv', sep=';')\n",
    "    df.head()\n",
    "\n",
    "    # df[]\n",
    "    df['label'] = pd.isna(df['Comment']).astype('int')\n",
    "    df['smiles'] = df['Smiles']\n",
    "    df = df[['smiles', 'label']]\n",
    "    print(df.label.sum())\n",
    "    df = df.dropna()\n",
    "    print(df.label.sum())\n",
    "    if write:\n",
    "        df.to_csv(f'./assays/processed/{chid}.csv', index=None)\n",
    "    return df\n",
    "prepegfr()"
   ]
  },
  {
   "cell_type": "code",
   "execution_count": null,
   "metadata": {},
   "outputs": [
    {
     "data": {
      "text/plain": [
       "2      6.11\n",
       "4      6.87\n",
       "60     7.46\n",
       "69     6.49\n",
       "80     5.48\n",
       "103    6.30\n",
       "114    5.50\n",
       "135    6.26\n",
       "140    5.91\n",
       "159    6.80\n",
       "161    6.08\n",
       "166    4.64\n",
       "167    8.83\n",
       "169    4.90\n",
       "178    6.15\n",
       "223    6.96\n",
       "295    6.84\n",
       "307    8.39\n",
       "320    6.45\n",
       "333    6.41\n",
       "340    4.88\n",
       "356    8.80\n",
       "390    4.89\n",
       "397    7.70\n",
       "414    8.62\n",
       "416    8.58\n",
       "441    6.89\n",
       "455    4.78\n",
       "478    5.88\n",
       "501    6.70\n",
       "509    6.93\n",
       "518    8.30\n",
       "526    5.21\n",
       "535    5.94\n",
       "563    6.69\n",
       "569    6.00\n",
       "573    8.05\n",
       "585    6.09\n",
       "593    8.54\n",
       "594    5.46\n",
       "600    5.69\n",
       "612    5.23\n",
       "623    4.70\n",
       "626    6.79\n",
       "633    8.71\n",
       "651    7.20\n",
       "684    8.37\n",
       "733    6.90\n",
       "743    8.79\n",
       "746    5.93\n",
       "752    7.96\n",
       "766    4.91\n",
       "770    5.34\n",
       "795    4.86\n",
       "801    6.33\n",
       "804    8.18\n",
       "809    6.38\n",
       "843    7.27\n",
       "861    6.11\n",
       "Name: pChEMBL Value, dtype: float64"
      ]
     },
     "execution_count": null,
     "metadata": {},
     "output_type": "execute_result"
    }
   ],
   "source": [
    "chid = 'CHEMBL1909140'\n",
    "df = pd.read_csv(f'./assays/raw/{chid}.csv', sep=';')\n",
    "df['pChEMBL Value']\n",
    "df = df[df['Comment'].isna()]\n",
    "df['pChEMBL Value']"
   ]
  },
  {
   "cell_type": "markdown",
   "metadata": {},
   "source": [
    "# DRD2"
   ]
  },
  {
   "cell_type": "code",
   "execution_count": null,
   "metadata": {},
   "outputs": [
    {
     "name": "stdout",
     "output_type": "stream",
     "text": [
      "59\n",
      "59\n"
     ]
    },
    {
     "data": {
      "text/html": [
       "<div>\n",
       "<style scoped>\n",
       "    .dataframe tbody tr th:only-of-type {\n",
       "        vertical-align: middle;\n",
       "    }\n",
       "\n",
       "    .dataframe tbody tr th {\n",
       "        vertical-align: top;\n",
       "    }\n",
       "\n",
       "    .dataframe thead th {\n",
       "        text-align: right;\n",
       "    }\n",
       "</style>\n",
       "<table border=\"1\" class=\"dataframe\">\n",
       "  <thead>\n",
       "    <tr style=\"text-align: right;\">\n",
       "      <th></th>\n",
       "      <th>smiles</th>\n",
       "      <th>label</th>\n",
       "    </tr>\n",
       "  </thead>\n",
       "  <tbody>\n",
       "    <tr>\n",
       "      <th>0</th>\n",
       "      <td>CC1(C)S[C@@H]2[C@H](NC(=O)[C@H](NC(=O)N3CCNC3=...</td>\n",
       "      <td>0</td>\n",
       "    </tr>\n",
       "    <tr>\n",
       "      <th>1</th>\n",
       "      <td>[Na+].CN(CS(=O)(=O)[O-])C1=C(C)N(C)N(C1=O)c2cc...</td>\n",
       "      <td>0</td>\n",
       "    </tr>\n",
       "    <tr>\n",
       "      <th>2</th>\n",
       "      <td>C(\\C=C\\c1ccccc1)N2CCN(CC2)C(c3ccccc3)c4ccccc4</td>\n",
       "      <td>1</td>\n",
       "    </tr>\n",
       "    <tr>\n",
       "      <th>3</th>\n",
       "      <td>CC(CCc1ccc(O)cc1)NCCc2ccc(O)c(O)c2</td>\n",
       "      <td>0</td>\n",
       "    </tr>\n",
       "    <tr>\n",
       "      <th>4</th>\n",
       "      <td>CN1CCC[C@@H]1CCO[C@](C)(c2ccccc2)c3ccc(Cl)cc3</td>\n",
       "      <td>1</td>\n",
       "    </tr>\n",
       "    <tr>\n",
       "      <th>...</th>\n",
       "      <td>...</td>\n",
       "      <td>...</td>\n",
       "    </tr>\n",
       "    <tr>\n",
       "      <th>866</th>\n",
       "      <td>N[C@@H](Cc1ccc(cc1)N(CCCl)CCCl)C(=O)O</td>\n",
       "      <td>0</td>\n",
       "    </tr>\n",
       "    <tr>\n",
       "      <th>867</th>\n",
       "      <td>CC(=O)O[C@H]1C(=O)[C@]2(C)[C@@H](O)C[C@H]3OC[C...</td>\n",
       "      <td>0</td>\n",
       "    </tr>\n",
       "    <tr>\n",
       "      <th>868</th>\n",
       "      <td>OC1=NC(=O)C(N1)(c2ccccc2)c3ccccc3</td>\n",
       "      <td>0</td>\n",
       "    </tr>\n",
       "    <tr>\n",
       "      <th>869</th>\n",
       "      <td>N[C@@H](Cc1ccc(O)c(O)c1)C(=O)O</td>\n",
       "      <td>0</td>\n",
       "    </tr>\n",
       "    <tr>\n",
       "      <th>870</th>\n",
       "      <td>COc1cccc2C(=O)c3c(O)c4C[C@](O)(C[C@H](O[C@H]5C...</td>\n",
       "      <td>0</td>\n",
       "    </tr>\n",
       "  </tbody>\n",
       "</table>\n",
       "<p>842 rows × 2 columns</p>\n",
       "</div>"
      ],
      "text/plain": [
       "                                                smiles  label\n",
       "0    CC1(C)S[C@@H]2[C@H](NC(=O)[C@H](NC(=O)N3CCNC3=...      0\n",
       "1    [Na+].CN(CS(=O)(=O)[O-])C1=C(C)N(C)N(C1=O)c2cc...      0\n",
       "2        C(\\C=C\\c1ccccc1)N2CCN(CC2)C(c3ccccc3)c4ccccc4      1\n",
       "3                   CC(CCc1ccc(O)cc1)NCCc2ccc(O)c(O)c2      0\n",
       "4        CN1CCC[C@@H]1CCO[C@](C)(c2ccccc2)c3ccc(Cl)cc3      1\n",
       "..                                                 ...    ...\n",
       "866              N[C@@H](Cc1ccc(cc1)N(CCCl)CCCl)C(=O)O      0\n",
       "867  CC(=O)O[C@H]1C(=O)[C@]2(C)[C@@H](O)C[C@H]3OC[C...      0\n",
       "868                  OC1=NC(=O)C(N1)(c2ccccc2)c3ccccc3      0\n",
       "869                     N[C@@H](Cc1ccc(O)c(O)c1)C(=O)O      0\n",
       "870  COc1cccc2C(=O)c3c(O)c4C[C@](O)(C[C@H](O[C@H]5C...      0\n",
       "\n",
       "[842 rows x 2 columns]"
      ]
     },
     "execution_count": null,
     "metadata": {},
     "output_type": "execute_result"
    }
   ],
   "source": [
    "def prepdrd2(write=False):\n",
    "    chid = 'CHEMBL1909140'\n",
    "    df = pd.read_csv(f'./assays/raw/{chid}.csv', sep=';')\n",
    "    df.head()\n",
    "\n",
    "    # df[]\n",
    "    df['label'] = pd.isna(df['Comment']).astype('int')\n",
    "    df['smiles'] = df['Smiles']\n",
    "    df = df[['smiles', 'label']]\n",
    "    print(df.label.sum())\n",
    "    df = df.dropna()\n",
    "    print(df.label.sum())\n",
    "    df.to_csv(f'./assays/processed/{chid}.csv', index=None)\n",
    "    return df\n",
    "prepdrd2()"
   ]
  },
  {
   "cell_type": "markdown",
   "metadata": {},
   "source": [
    "# Plasmodium Falciparum"
   ]
  },
  {
   "cell_type": "code",
   "execution_count": null,
   "metadata": {},
   "outputs": [
    {
     "data": {
      "text/plain": [
       "0.3028153402793172"
      ]
     },
     "execution_count": null,
     "metadata": {},
     "output_type": "execute_result"
    },
    {
     "data": {
      "image/png": "[encoded data removed]",
      "text/plain": [
       "<Figure size 432x288 with 1 Axes>"
      ]
     },
     "metadata": {
      "needs_background": "light"
     },
     "output_type": "display_data"
    }
   ],
   "source": [
    "chid = 'CHEMBL1054500'\n",
    "\n",
    "df = pd.read_csv(f'./assays/raw/{chid}.csv', sep=';')\n",
    "value = df['Standard Value']\n",
    "plt.hist(value, bins=100);\n",
    "(value > 99).mean()"
   ]
  },
  {
   "cell_type": "code",
   "execution_count": null,
   "metadata": {},
   "outputs": [
    {
     "name": "stdout",
     "output_type": "stream",
     "text": [
      "0.2098950524737631\n",
      "667\n",
      "------\n",
      "527\n",
      "506\n",
      "140\n",
      "138\n",
      "24\n"
     ]
    }
   ],
   "source": [
    "# df = prepdrd2()\n",
    "df = prepjak2()\n",
    "# df = prepegfr()\n",
    "\n",
    "smiles0 = df.smiles[df.label == 0]\n",
    "smiles1 = df.smiles[df.label == 1]\n",
    "ssmiles0 = set(smiles0)\n",
    "ssmiles1 = set(smiles1)\n",
    "print('------')\n",
    "print(len(smiles0))\n",
    "print(len(ssmiles0))\n",
    "print(len(smiles1))\n",
    "print(len(ssmiles1))\n",
    "print(len(ssmiles0 & ssmiles1))"
   ]
  }
 ],
 "metadata": {
  "kernelspec": {
   "display_name": "Python 3",
   "language": "python",
   "name": "python3"
  }
 },
 "nbformat": 4,
 "nbformat_minor": 2
}
