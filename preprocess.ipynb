{
 "cells": [
  {
   "cell_type": "markdown",
   "metadata": {},
   "source": [
    "# Canonicalize CHEMBL molecules\n",
    "We're doing this once so we can save on compute later.\n",
    "Guacamol optimizers often canonicalize these sets."
   ]
  },
  {
   "cell_type": "code",
   "execution_count": null,
   "metadata": {},
   "outputs": [],
   "source": [
    "from guacamol.utils.chemistry import canonicalize\n",
    "import os\n",
    "from multiprocessing import Pool\n",
    "from glob import glob\n",
    "import pandas as pd\n",
    "import matplotlib.pyplot as plt"
   ]
  },
  {
   "cell_type": "code",
   "execution_count": null,
   "metadata": {},
   "outputs": [
    {
     "name": "stdout",
     "output_type": "stream",
     "text": [
      "1591378 1591378\n",
      "79568 79568\n",
      "1273104 1273104\n",
      "238706 238706\n"
     ]
    }
   ],
   "source": [
    "files = [f for f in glob('data/*') if not f.endswith('.can')]\n",
    "\n",
    "for file in files:\n",
    "    can_file = file+'.can'\n",
    "    if os.path.isfile(can_file):\n",
    "        continue\n",
    "        \n",
    "    with open(file) as f:\n",
    "        smiles = f.read().split()\n",
    "    with Pool(16) as pool:\n",
    "        can_smiles = pool.map(canonicalize, smiles)    \n",
    "    \n",
    "    print(len(smiles), len(can_smiles))\n",
    "    with open(can_file, 'w') as f:\n",
    "        f.write('\\n'.join(smiles))"
   ]
  },
  {
   "cell_type": "markdown",
   "metadata": {},
   "source": [
    "# Preprocessing of JAK2"
   ]
  },
  {
   "cell_type": "code",
   "execution_count": null,
   "metadata": {},
   "outputs": [],
   "source": [
    "chid = 'CHEMBL3888429'\n",
    "df = pd.read_csv(f'./assays/raw/{chid}.csv', sep=';')\n",
    "df = df[['Smiles', 'pChEMBL Value']]\n",
    "df.columns = ['smiles', 'value']\n",
    "\n",
    "label = np.array([1 if x>8 else 0 for x in df.value])\n",
    "print(label.mean())\n",
    "df['label'] = label\n",
    "df.to_csv(f'./assays/processed/{chid}.csv', index=None)"
   ]
  },
  {
   "cell_type": "markdown",
   "metadata": {},
   "source": [
    "# EGFR"
   ]
  },
  {
   "cell_type": "code",
   "execution_count": null,
   "metadata": {},
   "outputs": [
    {
     "name": "stdout",
     "output_type": "stream",
     "text": [
      "47\n",
      "40\n"
     ]
    }
   ],
   "source": [
    "chid = 'CHEMBL1909203'\n",
    "df = pd.read_csv(f'./assays/raw/{chid}.csv', sep=';')\n",
    "df.head()\n",
    "\n",
    "# df[]\n",
    "df['label'] = pd.isna(df['Comment']).astype('int')\n",
    "df['smiles'] = df['Smiles']\n",
    "df = df[['smiles', 'label']]\n",
    "print(df.label.sum())\n",
    "df = df.dropna()\n",
    "print(df.label.sum())\n",
    "df.to_csv(f'./assays/processed/{chid}.csv', index=None)"
   ]
  },
  {
   "cell_type": "markdown",
   "metadata": {},
   "source": [
    "# DRD2"
   ]
  },
  {
   "cell_type": "code",
   "execution_count": null,
   "metadata": {},
   "outputs": [
    {
     "name": "stdout",
     "output_type": "stream",
     "text": [
      "59\n",
      "59\n"
     ]
    }
   ],
   "source": [
    "chid = 'CHEMBL1909140'\n",
    "df = pd.read_csv(f'./assays/raw/{chid}.csv', sep=';')\n",
    "df.head()\n",
    "\n",
    "# df[]\n",
    "df['label'] = pd.isna(df['Comment']).astype('int')\n",
    "df['smiles'] = df['Smiles']\n",
    "df = df[['smiles', 'label']]\n",
    "print(df.label.sum())\n",
    "df = df.dropna()\n",
    "print(df.label.sum())\n",
    "df.to_csv(f'./assays/processed/{chid}.csv', index=None)"
   ]
  },
  {
   "cell_type": "code",
   "execution_count": null,
   "metadata": {},
   "outputs": [
    {
     "data": {
      "text/plain": [
       "3"
      ]
     },
     "execution_count": null,
     "metadata": {},
     "output_type": "execute_result"
    }
   ],
   "source": [
    "# Too little actives\n",
    "chid = 'CHEMBL1613933'\n",
    "\n",
    "df = pd.read_csv(f'./assays/raw/{chid}.csv', sep=';')\n",
    "df.head()\n",
    "df[[c for c in df.columns if c.startswith('Standard')]]\n",
    "(df.Comment == 'Active').sum()"
   ]
  },
  {
   "cell_type": "code",
   "execution_count": null,
   "metadata": {},
   "outputs": [],
   "source": [
    "# df[]\n",
    "df['label'] = pd.isna(df['Comment']).astype('int')\n",
    "df['smiles'] = df['Smiles']\n",
    "df = df[['smiles', 'label']]\n",
    "print(df.label.sum())\n",
    "df = df.dropna()\n",
    "print(df.label.sum())\n",
    "df.to_csv(f'./assays/processed/{chid}.csv', index=None)"
   ]
  },
  {
   "cell_type": "markdown",
   "metadata": {},
   "source": [
    "# Plasmodium Falciparum"
   ]
  },
  {
   "cell_type": "code",
   "execution_count": null,
   "metadata": {},
   "outputs": [
    {
     "data": {
      "text/plain": [
       "0.3028153402793172"
      ]
     },
     "execution_count": null,
     "metadata": {},
     "output_type": "execute_result"
    },
    {
     "data": {
      "image/png": "[encoded data removed]",
      "text/plain": [
       "<Figure size 432x288 with 1 Axes>"
      ]
     },
     "metadata": {
      "needs_background": "light"
     },
     "output_type": "display_data"
    }
   ],
   "source": [
    "chid = 'CHEMBL1054500'\n",
    "\n",
    "df = pd.read_csv(f'./assays/raw/{chid}.csv', sep=';')\n",
    "value = df['Standard Value']\n",
    "plt.hist(value, bins=100);\n",
    "(value > 99).mean()"
   ]
  }
 ],
 "metadata": {
  "kernelspec": {
   "display_name": "guacamol",
   "language": "python",
   "name": "guacamol"
  }
 },
 "nbformat": 4,
 "nbformat_minor": 2
}
